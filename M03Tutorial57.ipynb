{
 "cells": [
  {
   "cell_type": "markdown",
   "id": "4d4590ce",
   "metadata": {},
   "source": [
    "Write a function that computes the volume of a sphere given its readius."
   ]
  },
  {
   "cell_type": "code",
   "execution_count": 6,
   "id": "e0145e00",
   "metadata": {},
   "outputs": [],
   "source": [
    "def vol(rad):\n",
    "    return (4/3)*(3.14)*(rad**3)"
   ]
  },
  {
   "cell_type": "code",
   "execution_count": 7,
   "id": "3bac3367",
   "metadata": {},
   "outputs": [
    {
     "data": {
      "text/plain": [
       "33.49333333333333"
      ]
     },
     "execution_count": 7,
     "metadata": {},
     "output_type": "execute_result"
    }
   ],
   "source": [
    "vol(2)"
   ]
  },
  {
   "cell_type": "markdown",
   "id": "ade48cdb",
   "metadata": {},
   "source": [
    "Write a function that checks whether a number is in a given range(inclusive of high and low)"
   ]
  },
  {
   "cell_type": "code",
   "execution_count": 8,
   "id": "a03e69ef",
   "metadata": {},
   "outputs": [],
   "source": [
    "def ran_check(num,low,high):\n",
    "    if num in range(low,high+1):\n",
    "        print(f'{num} is in range of low and high')\n",
    "    else:\n",
    "        print('not in range')"
   ]
  },
  {
   "cell_type": "code",
   "execution_count": 10,
   "id": "0545cb04",
   "metadata": {},
   "outputs": [
    {
     "name": "stdout",
     "output_type": "stream",
     "text": [
      "5 is in range of low and high\n"
     ]
    }
   ],
   "source": [
    "ran_check(5,2,7)"
   ]
  },
  {
   "cell_type": "markdown",
   "id": "2ff2834c",
   "metadata": {},
   "source": [
    "Write a Python function that accepts a string and calculates the number of uppercase letters and lowercase letters."
   ]
  },
  {
   "cell_type": "code",
   "execution_count": 17,
   "id": "060a3efa",
   "metadata": {},
   "outputs": [],
   "source": [
    "def up_low(s):\n",
    "    d = {'upper':0, 'lower':0}\n",
    "    \n",
    "    for char in s:\n",
    "        if char.isupper():\n",
    "            d['upper'] += 1\n",
    "        elif char.islower():\n",
    "            d['lower'] += 1 \n",
    "        else:\n",
    "            pass\n",
    "    print(f\"Orignal String: {s}\")\n",
    "    print(f'Lowercase count: {d[\"lower\"]}')\n",
    "    print(f'Uppercase count: {d[\"upper\"]}')"
   ]
  },
  {
   "cell_type": "code",
   "execution_count": 18,
   "id": "3437a043",
   "metadata": {
    "scrolled": true
   },
   "outputs": [
    {
     "name": "stdout",
     "output_type": "stream",
     "text": [
      "Orignal String: Hello Mr. Rogers, how are you this fine Tuesday?\n",
      "Lowercase count: 33\n",
      "Uppercase count: 4\n"
     ]
    }
   ],
   "source": [
    "s = 'Hello Mr. Rogers, how are you this fine Tuesday?'\n",
    "up_low(s)"
   ]
  },
  {
   "cell_type": "markdown",
   "id": "9ff33980",
   "metadata": {},
   "source": [
    "Write a Python function that takes a list and returns a new list with unique elements of the first list."
   ]
  },
  {
   "cell_type": "code",
   "execution_count": 19,
   "id": "309c1f36",
   "metadata": {},
   "outputs": [],
   "source": [
    "def unique_list(lst):\n",
    "    seen_numbers = []\n",
    "    for number in lst:\n",
    "        if number not in seen_numbers:\n",
    "            seen_numbers.append(number)\n",
    "    return seen_numbers"
   ]
  },
  {
   "cell_type": "code",
   "execution_count": 20,
   "id": "55fdf31d",
   "metadata": {},
   "outputs": [
    {
     "data": {
      "text/plain": [
       "[1, 2, 3, 4, 5]"
      ]
     },
     "execution_count": 20,
     "metadata": {},
     "output_type": "execute_result"
    }
   ],
   "source": [
    "unique_list([1,1,1,1,2,2,3,3,3,3,4,5])"
   ]
  },
  {
   "cell_type": "markdown",
   "id": "cdce3d23",
   "metadata": {},
   "source": [
    "Write a Python function to multiply all the numbers in a list."
   ]
  },
  {
   "cell_type": "code",
   "execution_count": 21,
   "id": "45b4572a",
   "metadata": {},
   "outputs": [],
   "source": [
    "def multiply(numbers):\n",
    "    total = 1\n",
    "    for num in numbers:\n",
    "        total = total * num\n",
    "    return total"
   ]
  },
  {
   "cell_type": "code",
   "execution_count": 22,
   "id": "3c4fd381",
   "metadata": {},
   "outputs": [
    {
     "data": {
      "text/plain": [
       "-24"
      ]
     },
     "execution_count": 22,
     "metadata": {},
     "output_type": "execute_result"
    }
   ],
   "source": [
    "multiply([1,2,3,-4])"
   ]
  },
  {
   "cell_type": "markdown",
   "id": "621dfe57",
   "metadata": {},
   "source": [
    "Write a Python function that checks whether a word or phrase is palindrome or not."
   ]
  },
  {
   "cell_type": "code",
   "execution_count": 23,
   "id": "cb8ca16b",
   "metadata": {},
   "outputs": [],
   "source": [
    "def palindrome(s):\n",
    "    s = s.replace(' ', '')\n",
    "    return s == s[::-1]"
   ]
  },
  {
   "cell_type": "code",
   "execution_count": 24,
   "id": "59842013",
   "metadata": {},
   "outputs": [
    {
     "data": {
      "text/plain": [
       "True"
      ]
     },
     "execution_count": 24,
     "metadata": {},
     "output_type": "execute_result"
    }
   ],
   "source": [
    "palindrome('nurses run')"
   ]
  },
  {
   "cell_type": "markdown",
   "id": "15ef0b39",
   "metadata": {},
   "source": [
    "Write a Python function to check whether a string is pangram or not. (Assume the string passed in does not have any punctuation)"
   ]
  },
  {
   "cell_type": "code",
   "execution_count": 25,
   "id": "8b414280",
   "metadata": {},
   "outputs": [],
   "source": [
    "import string\n",
    "\n",
    "def ispangram(str1, alphabet=string.ascii_lowercase):\n",
    "    alphaset = set(alphabet)\n",
    "    str1 = str1.replace(' ', '')\n",
    "    str1 = str1.lower()\n",
    "    str1 = set(str1)\n",
    "    return str1 == alphaset"
   ]
  },
  {
   "cell_type": "code",
   "execution_count": 26,
   "id": "a3942d8b",
   "metadata": {},
   "outputs": [
    {
     "data": {
      "text/plain": [
       "True"
      ]
     },
     "execution_count": 26,
     "metadata": {},
     "output_type": "execute_result"
    }
   ],
   "source": [
    "ispangram(\"The quick brown fox jumps over the lazy dog\")"
   ]
  },
  {
   "cell_type": "code",
   "execution_count": 27,
   "id": "243da433",
   "metadata": {},
   "outputs": [
    {
     "data": {
      "text/plain": [
       "'abcdefghijklmnopqrstuvwxyz'"
      ]
     },
     "execution_count": 27,
     "metadata": {},
     "output_type": "execute_result"
    }
   ],
   "source": [
    "string.ascii_lowercase"
   ]
  },
  {
   "cell_type": "code",
   "execution_count": null,
   "id": "d16a050c",
   "metadata": {},
   "outputs": [],
   "source": []
  }
 ],
 "metadata": {
  "kernelspec": {
   "display_name": "Python 3 (ipykernel)",
   "language": "python",
   "name": "python3"
  },
  "language_info": {
   "codemirror_mode": {
    "name": "ipython",
    "version": 3
   },
   "file_extension": ".py",
   "mimetype": "text/x-python",
   "name": "python",
   "nbconvert_exporter": "python",
   "pygments_lexer": "ipython3",
   "version": "3.9.13"
  }
 },
 "nbformat": 4,
 "nbformat_minor": 5
}
